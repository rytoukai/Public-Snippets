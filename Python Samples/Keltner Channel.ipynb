{
 "cells": [
  {
   "cell_type": "code",
   "execution_count": 1,
   "metadata": {},
   "outputs": [],
   "source": [
    "#Import Dependencies\n",
    "import time\n",
    "import json\n",
    "import requests\n",
    "import datetime\n",
    "import numpy as np\n",
    "import pandas as pd\n",
    "import pandas_ta as ta\n",
    "import backtrader as bt\n",
    "import backtrader.feeds as btfeeds\n",
    "import backtrader.indicators as btind\n",
    "import backtrader.analyzers as btanalyzer\n",
    "\n",
    "from dotenv import load_dotenv\n",
    "\n",
    "from matplotlib import pyplot as plt"
   ]
  },
  {
   "cell_type": "code",
   "execution_count": 2,
   "metadata": {},
   "outputs": [],
   "source": [
    "#Data Request\n",
    "def requestData(reqAsset, reqInterval):\n",
    "    reqFrom = round(time.time() - 60*reqInterval*720)\n",
    "    req = requests.get('https://api.kraken.com/0/public/OHLC?pair={}&since={}&interval={}'.format(reqAsset, reqFrom, reqInterval))\n",
    "    dic = list(json.loads(req.text)['result'])\n",
    "    dic2 = json.loads(req.text)['result'][dic[0]]\n",
    "    reqData = pd.DataFrame.from_dict(dic2)\n",
    "    reqData.drop([5, 7], axis = 1, inplace=True)\n",
    "    reqData.columns = ['date', 'open', 'high', 'low', 'close', 'volume']\n",
    "    reqData.date = pd.to_datetime(reqData.date,  unit='s')\n",
    "    reqData.set_index('date', inplace=True)\n",
    "    reqData[['open', 'high', 'low', 'close', 'volume']] = reqData[['open', 'high', 'low', 'close', 'volume']].apply(pd.to_numeric, errors = 'coerce', axis = 1)\n",
    "    return reqData"
   ]
  },
  {
   "cell_type": "code",
   "execution_count": 3,
   "metadata": {},
   "outputs": [],
   "source": [
    "#Custom indicator implementation\n",
    "class compound(bt.Indicator):\n",
    "    lines = ('rsi', 'atr', 'ema')\n",
    "    params = dict(\n",
    "            keltnerEMA = 20,\n",
    "            keltnerATR = 18,\n",
    "            keltnerMultiplier = 1,\n",
    "            rsiLength = 20,\n",
    "        )\n",
    "    def __init__(self):\n",
    "        period1 = self.params.rsiLength\n",
    "        period2 = self.params.keltnerEMA\n",
    "        period3 = self.params.keltnerATR\n",
    "        self.lines.rsi = btind.RSI(self.data, period = period1)\n",
    "        self.lines.ema = btind.EMA(self.data, period = period2)\n",
    "        self.lines.atr = btind.AverageTrueRange(self.data, period = period3)\n",
    "    "
   ]
  },
  {
   "cell_type": "code",
   "execution_count": 4,
   "metadata": {},
   "outputs": [],
   "source": [
    "#Strategy implementation\n",
    "class keltnerStrat(bt.Strategy):\n",
    "\n",
    "    params = dict(\n",
    "            keltnerEMA = 20,\n",
    "            keltnerATR = 20,\n",
    "            keltnerMultiplier = 2,\n",
    "            rsiLength = 14,\n",
    "            rsiLowerBound = 30,\n",
    "            rsiUpperBound = 70,\n",
    "            stopMult = 2\n",
    "        )\n",
    "\n",
    "    def __init__(self):\n",
    "        self.indicator = compound(\n",
    "            keltnerEMA = self.params.keltnerEMA,\n",
    "            keltnerATR = self.params.keltnerATR,\n",
    "            keltnerMultiplier = self.params.keltnerMultiplier,\n",
    "            rsiLength = self.params.rsiLength\n",
    "        )\n",
    "        self.longStopLoss = 0\n",
    "        self.shortStopLoss = 0\n",
    "\n",
    "    def next(self):\n",
    "        self.rsi = self.indicator.lines.rsi\n",
    "        self.atr = self.indicator.lines.atr\n",
    "        self.middleKC = self.indicator.lines.ema\n",
    "        self.lowerKC = self.middleKC - (self.atr*self.params.keltnerMultiplier)\n",
    "        self.upperKC = self.middleKC + (self.atr*self.params.keltnerMultiplier)\n",
    "        self.positionSize = (0.8*cerebro.broker.getvalue()) / self.data.close[0]\n",
    "        \n",
    "        if not self.position: \n",
    "            if (self.rsi > self.params.rsiLowerBound) and (self.data.close[0] > self.lowerKC) and (self.data.close[-1] < self.lowerKC):\n",
    "                self.order = self.buy(\n",
    "                            data = self.data,\n",
    "                            size = self.positionSize,\n",
    "                        )\n",
    "                self.side = 1\n",
    "                self.longStopLoss = self.lowerKC - self.atr*self.params.stopMult\n",
    "            elif (self.rsi < self.params.rsiUpperBound) and (self.data.close[0] < self.upperKC) and (self.data.close[-1] > self.upperKC):\n",
    "                self.order = self.sell(\n",
    "                            data = self.data,\n",
    "                            size = self.positionSize,\n",
    "                        )\n",
    "                self.side = 0\n",
    "                self.shortStopLoss = self.upperKC + self.atr*self.params.stopMult\n",
    "        elif self.position:\n",
    "            if ((self.data.close >= self.middleKC) and self.side == 1):\n",
    "                self.order = self.close(exectype = bt.Order.StopTrail, trailpercent = 0.001)\n",
    "            elif (self.data.close <= self.longStopLoss) and self.side == 1:\n",
    "                self.order = self.close()\n",
    "            elif (self.data.close <= self.middleKC) and self.side == 0:\n",
    "                self.order = self.close(exectype = bt.Order.StopTrail, trailpercent = 0.001)\n",
    "            elif (self.data.close >= self.shortStopLoss) and self.side == 0:\n",
    "                self.order = self.close()\n"
   ]
  },
  {
   "cell_type": "code",
   "execution_count": 5,
   "metadata": {},
   "outputs": [
    {
     "name": "stdout",
     "output_type": "stream",
     "text": [
      "Final Portfolio Value: 9843.01\n",
      "Sharpe Ratio:  None\n",
      "Return: -1.582%\n"
     ]
    }
   ],
   "source": [
    "#Backtesting Execution\n",
    "cerebro = bt.Cerebro()\n",
    "\n",
    "#Add data\n",
    "reqData = requestData('ADAUSD', 15)\n",
    "assetFrame = btfeeds.PandasData(dataname = reqData)\n",
    "cerebro.adddata(assetFrame)\n",
    "\n",
    "#Broker Params\n",
    "cerebro.broker.set_cash(10000)\n",
    "cerebro.broker.setcommission(commission = 0.001)\n",
    "\n",
    "#Analyzer\n",
    "cerebro.addanalyzer(btanalyzer.SharpeRatio, _name = 'sharpe')\n",
    "cerebro.addanalyzer(btanalyzer.Returns, _name = 'returns')\n",
    "\n",
    "#Strategy Execution\n",
    "cerebro.addstrategy(keltnerStrat, keltnerEMA = 20, keltnerATR = 14, keltnerMultiplier = 2.5)\n",
    "test = cerebro.run()\n",
    "\n",
    "#Results\n",
    "sharpe = test[0].analyzers.sharpe.get_analysis()['sharperatio']\n",
    "returns = test[0].analyzers.returns.get_analysis()['rtot']\n",
    "print('Final Portfolio Value: %.2f' % cerebro.broker.getvalue())\n",
    "print('Sharpe Ratio: ', sharpe)\n",
    "print('Return: {}%'.format(round(returns*100, 3)))\n",
    "\n",
    "#Graphing\n",
    "# plt.rcParams['figure.figsize'] = [30, 10]\n",
    "# plt.rcParams['figure.dpi'] = 50\n",
    "# x = cerebro.plot()\n",
    "# x[0][0]"
   ]
  },
  {
   "cell_type": "code",
   "execution_count": 302,
   "metadata": {},
   "outputs": [],
   "source": [
    "optimizationFrame = pd.read_csv(\"./data/optimizationResultsKeltner.csv\")"
   ]
  }
 ],
 "metadata": {
  "kernelspec": {
   "display_name": "venv",
   "language": "python",
   "name": "python3"
  },
  "language_info": {
   "codemirror_mode": {
    "name": "ipython",
    "version": 3
   },
   "file_extension": ".py",
   "mimetype": "text/x-python",
   "name": "python",
   "nbconvert_exporter": "python",
   "pygments_lexer": "ipython3",
   "version": "3.8.3"
  },
  "orig_nbformat": 4,
  "vscode": {
   "interpreter": {
    "hash": "489c0622185905743caca18481deab1dfe043e978c3fb30287137e849c058b60"
   }
  }
 },
 "nbformat": 4,
 "nbformat_minor": 2
}
